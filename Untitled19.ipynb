{
  "cells": [
    {
      "cell_type": "markdown",
      "metadata": {
        "id": "view-in-github",
        "colab_type": "text"
      },
      "source": [
        "<a href=\"https://colab.research.google.com/github/weathon/citrushack/blob/main/Untitled19.ipynb\" target=\"_parent\"><img src=\"https://colab.research.google.com/assets/colab-badge.svg\" alt=\"Open In Colab\"/></a>"
      ]
    },
    {
      "cell_type": "code",
      "execution_count": null,
      "metadata": {
        "id": "SmSsQZYZRfN_"
      },
      "outputs": [],
      "source": [
        "import tensorflow as tf\n",
        "\n",
        "import os\n",
        "import tensorflow_datasets as tfds\n",
        "import numpy as np\n",
        "from PIL import Image\n",
        "\n",
        "import matplotlib.pyplot as plt\n",
        "import matplotlib.patches as patches"
      ]
    },
    {
      "cell_type": "code",
      "execution_count": null,
      "metadata": {
        "colab": {
          "background_save": true,
          "base_uri": "https://localhost:8080/"
        },
        "id": "ZpV4Q_5nnZ5g",
        "outputId": "5f52f265-8bcd-4488-d859-4ea5beeab455"
      },
      "outputs": [
        {
          "name": "stdout",
          "output_type": "stream",
          "text": [
            "Warning: Your Kaggle API key is readable by other users on this system! To fix this, you can run 'chmod 600 /root/.kaggle/kaggle.json'\n",
            "Downloading pizza-type-hawaiian-peppperoni.zip to /content\n",
            " 99% 217M/219M [00:03<00:00, 49.9MB/s]\n",
            "100% 219M/219M [00:03<00:00, 62.8MB/s]\n"
          ]
        }
      ],
      "source": [
        "!mv kaggle.json /root/.kaggle/kaggle.json\n",
        "!kaggle datasets download -d sriramr/apples-bananas-oranges"
      ]
    },
    {
      "cell_type": "code",
      "source": [
        "!unzip pizza-type-hawaiian-peppperoni.zip"
      ],
      "metadata": {
        "id": "p-SA1dVmpbls"
      },
      "execution_count": null,
      "outputs": []
    },
    {
      "cell_type": "code",
      "source": [
        ""
      ],
      "metadata": {
        "id": "wClD5K-Fpskq"
      },
      "execution_count": null,
      "outputs": []
    },
    {
      "cell_type": "code",
      "source": [
        ""
      ],
      "metadata": {
        "id": "mFDn7ojRpxb3"
      },
      "execution_count": null,
      "outputs": []
    },
    {
      "cell_type": "code",
      "source": [
        ""
      ],
      "metadata": {
        "id": "_Gd989iBpy_E"
      },
      "execution_count": null,
      "outputs": []
    },
    {
      "cell_type": "code",
      "execution_count": null,
      "metadata": {
        "id": "21ZxfwbpTgNc"
      },
      "outputs": [],
      "source": [
        "# We used the dataset from https://github.com/toppev/is-pineapple-pizza but code our own project"
      ]
    },
    {
      "cell_type": "code",
      "execution_count": null,
      "metadata": {
        "id": "fYfIY_CfRmF9"
      },
      "outputs": [],
      "source": [
        "image_w , image_h = 128,128\n",
        "\n",
        "model = tf.keras.models.Sequential([\n",
        "  # RBG, because pineapple is yellow\n",
        "  tf.keras.layers.Conv2D(6, (2,2), activation='relu', input_shape=(image_h,image_w,3)),\n",
        "  tf.keras.layers.MaxPooling2D(2,2),\n",
        "  tf.keras.layers.Conv2D(8, (2,2), activation='relu'),\n",
        "  tf.keras.layers.MaxPooling2D(2,2), \n",
        "  tf.keras.layers.Conv2D(16, (2,2), activation='relu'), \n",
        "  tf.keras.layers.MaxPooling2D(2,2),  \n",
        "  tf.keras.layers.Conv2D(16, (2,2), activation='relu'), \n",
        "  tf.keras.layers.MaxPooling2D(2,2),\n",
        "  tf.keras.layers.Flatten(),\n",
        "  tf.keras.layers.Dense(512),\n",
        "  tf.keras.layers.Dense(258),\n",
        "  tf.keras.layers.Dense(128),\n",
        "  tf.keras.layers.Dropout(0.8), \n",
        "  tf.keras.layers.Dense(64),\n",
        "  tf.keras.layers.Dense(10),\n",
        "  tf.keras.layers.Dense(1,activation=\"sigmoid\"),\n",
        "])\n",
        "model.summary()\n",
        "# print(model.output_shape)\n",
        "model.compile(optimizer=tf.keras.optimizers.Adam(),\n",
        "          loss='binary_crossentropy',metrics=[\"accuracy\"])\n"
      ]
    },
    {
      "cell_type": "code",
      "execution_count": null,
      "metadata": {
        "id": "ZXmTFnkVToe2"
      },
      "outputs": [],
      "source": [
        "!wget http://pizzagan.csail.mit.edu/pizzaGANdata.zip\n",
        "\n",
        "!unzip pizzaGANdata.zip"
      ]
    },
    {
      "cell_type": "code",
      "execution_count": null,
      "metadata": {
        "colab": {
          "base_uri": "https://localhost:8080/"
        },
        "id": "TY4NmOb6XgAa",
        "outputId": "c6861f47-d563-41b5-f39f-096bcf3d8d0f"
      },
      "outputs": [
        {
          "name": "stdout",
          "output_type": "stream",
          "text": [
            "Pineapples: 83\n",
            "Not pineapples: 5000\n"
          ]
        }
      ],
      "source": [
        "! mkdir not_pineapple\n",
        "! mkdir pineapple\n",
        "\n",
        "#  https://github.com/toppev/is-pineapple-pizza/blob/main/dataset/categorize.py\n",
        "import os\n",
        "from shutil import copyfile\n",
        "\n",
        "images = sorted(os.listdir(\"pizzaGANdata/images\"))\n",
        "\n",
        "max_images = 5000\n",
        "test_images = 50\n",
        "\n",
        "pineapples = 0\n",
        "not_pineapples = 0\n",
        "\n",
        "with open(\"pizzaGANdata/imageLabels.txt\") as f:\n",
        "    index = 0\n",
        "    for line in f:\n",
        "        index += 1\n",
        "\n",
        "        is_pineapple = line.endswith('1\\n')\n",
        "        target = 'not_pineapple/' + str(not_pineapples) + '.jpg'\n",
        "\n",
        "        if is_pineapple:\n",
        "            target = 'pineapple/' + str(pineapples) + '.jpg'\n",
        "            if pineapples >= max_images:\n",
        "                continue\n",
        "            pineapples += 1\n",
        "        else:\n",
        "            if not_pineapples >= max_images:\n",
        "                continue\n",
        "            not_pineapples += 1\n",
        "        if len(images) > index:\n",
        "            copyfile('pizzaGANdata/images/' + images[index - 1], target)\n",
        "\n",
        "print('Pineapples: ' + str(pineapples))\n",
        "print('Not pineapples: ' + str(not_pineapples))"
      ]
    },
    {
      "cell_type": "code",
      "execution_count": null,
      "metadata": {
        "id": "WbCbseYyWnIj"
      },
      "outputs": [],
      "source": [
        "!cat pizzaGANdata/imageLabels.txt"
      ]
    },
    {
      "cell_type": "code",
      "execution_count": 89,
      "metadata": {
        "id": "UTMeBCamWH6i"
      },
      "outputs": [],
      "source": [
        "X = []\n",
        "Y = []"
      ]
    },
    {
      "cell_type": "code",
      "execution_count": null,
      "metadata": {
        "id": "FEnbXNWVddp2"
      },
      "outputs": [],
      "source": [
        "X"
      ]
    },
    {
      "cell_type": "code",
      "execution_count": 90,
      "metadata": {
        "id": "LHRNwwvlWXaB"
      },
      "outputs": [],
      "source": [
        "import random\n",
        "not_pineapples_list = random.sample(os.listdir(\"not_pineapple\"),pineapples*5)\n",
        "pineapples_list = os.listdir(\"pineapple\")"
      ]
    },
    {
      "cell_type": "code",
      "execution_count": 91,
      "metadata": {
        "id": "Hg7VwngCYKWu"
      },
      "outputs": [],
      "source": [
        "for i in not_pineapples_list:\n",
        "  X.append(np.array(Image.open(\"not_pineapple/\"+i).resize((128,128)).convert(\"RGB\")))\n",
        "  Y.append(0)"
      ]
    },
    {
      "cell_type": "code",
      "execution_count": 92,
      "metadata": {
        "id": "UHYvP3EZa2zV"
      },
      "outputs": [],
      "source": [
        "for i in pineapples_list:\n",
        "  X.append(np.array(Image.open(\"pineapple/\"+i).resize((128,128)).convert(\"RGB\")))\n",
        "  Y.append(1)\n",
        "\n",
        "for i in os.listdir(\"hawaiian_pizza\"):\n",
        "  X.append(np.array(Image.open(\"hawaiian_pizza/\"+i).resize((128,128)).convert(\"RGB\")))\n",
        "  Y.append(1)"
      ]
    },
    {
      "cell_type": "code",
      "execution_count": 93,
      "metadata": {
        "id": "2E57I6Jrc7mY"
      },
      "outputs": [],
      "source": [
        "X = np.array(X)\n",
        "Y = np.array(Y)"
      ]
    },
    {
      "cell_type": "code",
      "execution_count": 94,
      "metadata": {
        "id": "qxQHcBCpbJol",
        "colab": {
          "base_uri": "https://localhost:8080/"
        },
        "outputId": "ff20aeec-49a2-4aec-f8a8-1a294513b4d6"
      },
      "outputs": [
        {
          "output_type": "stream",
          "name": "stdout",
          "text": [
            "Epoch 1/50\n",
            "24/24 [==============================] - 1s 18ms/step - loss: 1.0408 - accuracy: 0.5846\n",
            "Epoch 2/50\n",
            "24/24 [==============================] - 0s 17ms/step - loss: 0.6157 - accuracy: 0.6458\n",
            "Epoch 3/50\n",
            "24/24 [==============================] - 0s 18ms/step - loss: 0.5640 - accuracy: 0.6797\n",
            "Epoch 4/50\n",
            "24/24 [==============================] - 0s 18ms/step - loss: 0.5205 - accuracy: 0.7253\n",
            "Epoch 5/50\n",
            "24/24 [==============================] - 0s 18ms/step - loss: 0.4913 - accuracy: 0.7474\n",
            "Epoch 6/50\n",
            "24/24 [==============================] - 0s 18ms/step - loss: 0.4541 - accuracy: 0.7930\n",
            "Epoch 7/50\n",
            "24/24 [==============================] - 0s 18ms/step - loss: 0.4173 - accuracy: 0.8099\n",
            "Epoch 8/50\n",
            "24/24 [==============================] - 0s 17ms/step - loss: 0.3975 - accuracy: 0.8073\n",
            "Epoch 9/50\n",
            "24/24 [==============================] - 0s 18ms/step - loss: 0.3694 - accuracy: 0.8385\n",
            "Epoch 10/50\n",
            "24/24 [==============================] - 0s 18ms/step - loss: 0.3351 - accuracy: 0.8464\n",
            "Epoch 11/50\n",
            "24/24 [==============================] - 0s 18ms/step - loss: 0.3210 - accuracy: 0.8750\n",
            "Epoch 12/50\n",
            "24/24 [==============================] - 0s 18ms/step - loss: 0.3076 - accuracy: 0.8750\n",
            "Epoch 13/50\n",
            "24/24 [==============================] - 0s 18ms/step - loss: 0.2747 - accuracy: 0.8737\n",
            "Epoch 14/50\n",
            "24/24 [==============================] - 0s 18ms/step - loss: 0.2699 - accuracy: 0.9076\n",
            "Epoch 15/50\n",
            "24/24 [==============================] - 0s 18ms/step - loss: 0.2575 - accuracy: 0.8971\n",
            "Epoch 16/50\n",
            "24/24 [==============================] - 0s 18ms/step - loss: 0.2327 - accuracy: 0.9076\n",
            "Epoch 17/50\n",
            "24/24 [==============================] - 0s 18ms/step - loss: 0.2060 - accuracy: 0.9297\n",
            "Epoch 18/50\n",
            "24/24 [==============================] - 0s 18ms/step - loss: 0.2113 - accuracy: 0.9245\n",
            "Epoch 19/50\n",
            "24/24 [==============================] - 0s 17ms/step - loss: 0.1926 - accuracy: 0.9349\n",
            "Epoch 20/50\n",
            "24/24 [==============================] - 0s 18ms/step - loss: 0.1667 - accuracy: 0.9427\n",
            "Epoch 21/50\n",
            "24/24 [==============================] - 0s 19ms/step - loss: 0.1495 - accuracy: 0.9492\n",
            "Epoch 22/50\n",
            "24/24 [==============================] - 0s 19ms/step - loss: 0.1542 - accuracy: 0.9453\n",
            "Epoch 23/50\n",
            "24/24 [==============================] - 0s 18ms/step - loss: 0.1296 - accuracy: 0.9609\n",
            "Epoch 24/50\n",
            "24/24 [==============================] - 0s 17ms/step - loss: 0.1333 - accuracy: 0.9518\n",
            "Epoch 25/50\n",
            "24/24 [==============================] - 0s 18ms/step - loss: 0.1136 - accuracy: 0.9557\n",
            "Epoch 26/50\n",
            "24/24 [==============================] - 0s 18ms/step - loss: 0.0985 - accuracy: 0.9661\n",
            "Epoch 27/50\n",
            "24/24 [==============================] - 0s 18ms/step - loss: 0.0845 - accuracy: 0.9727\n",
            "Epoch 28/50\n",
            "24/24 [==============================] - 0s 18ms/step - loss: 0.0834 - accuracy: 0.9701\n",
            "Epoch 29/50\n",
            "24/24 [==============================] - 0s 18ms/step - loss: 0.0862 - accuracy: 0.9727\n",
            "Epoch 30/50\n",
            "24/24 [==============================] - 0s 19ms/step - loss: 0.0756 - accuracy: 0.9779\n",
            "Epoch 31/50\n",
            "24/24 [==============================] - 0s 18ms/step - loss: 0.0702 - accuracy: 0.9779\n",
            "Epoch 32/50\n",
            "24/24 [==============================] - 0s 18ms/step - loss: 0.0666 - accuracy: 0.9844\n",
            "Epoch 33/50\n",
            "24/24 [==============================] - 0s 18ms/step - loss: 0.0756 - accuracy: 0.9727\n",
            "Epoch 34/50\n",
            "24/24 [==============================] - 0s 18ms/step - loss: 0.0625 - accuracy: 0.9779\n",
            "Epoch 35/50\n",
            "24/24 [==============================] - 0s 19ms/step - loss: 0.0541 - accuracy: 0.9844\n",
            "Epoch 36/50\n",
            "24/24 [==============================] - 0s 18ms/step - loss: 0.0514 - accuracy: 0.9805\n",
            "Epoch 37/50\n",
            "24/24 [==============================] - 0s 18ms/step - loss: 0.0422 - accuracy: 0.9870\n",
            "Epoch 38/50\n",
            "24/24 [==============================] - 0s 18ms/step - loss: 0.0398 - accuracy: 0.9896\n",
            "Epoch 39/50\n",
            "24/24 [==============================] - 0s 18ms/step - loss: 0.0377 - accuracy: 0.9948\n",
            "Epoch 40/50\n",
            "24/24 [==============================] - 0s 18ms/step - loss: 0.0373 - accuracy: 0.9883\n",
            "Epoch 41/50\n",
            "24/24 [==============================] - 0s 18ms/step - loss: 0.0341 - accuracy: 0.9935\n",
            "Epoch 42/50\n",
            "24/24 [==============================] - 0s 18ms/step - loss: 0.0284 - accuracy: 0.9948\n",
            "Epoch 43/50\n",
            "24/24 [==============================] - 0s 18ms/step - loss: 0.0266 - accuracy: 0.9961\n",
            "Epoch 44/50\n",
            "24/24 [==============================] - 0s 18ms/step - loss: 0.0258 - accuracy: 0.9948\n",
            "Epoch 45/50\n",
            "24/24 [==============================] - 0s 18ms/step - loss: 0.0250 - accuracy: 0.9935\n",
            "Epoch 46/50\n",
            "24/24 [==============================] - 0s 19ms/step - loss: 0.0208 - accuracy: 0.9948\n",
            "Epoch 47/50\n",
            "24/24 [==============================] - 0s 18ms/step - loss: 0.0213 - accuracy: 0.9948\n",
            "Epoch 48/50\n",
            "24/24 [==============================] - 0s 18ms/step - loss: 0.0209 - accuracy: 0.9961\n",
            "Epoch 49/50\n",
            "24/24 [==============================] - 0s 19ms/step - loss: 0.0205 - accuracy: 0.9961\n",
            "Epoch 50/50\n",
            "24/24 [==============================] - 0s 18ms/step - loss: 0.0190 - accuracy: 0.9961\n"
          ]
        },
        {
          "output_type": "execute_result",
          "data": {
            "text/plain": [
              "<keras.callbacks.History at 0x7ffacda70b90>"
            ]
          },
          "metadata": {},
          "execution_count": 94
        }
      ],
      "source": [
        "model.fit(X, Y, epochs=50, shuffle=True)"
      ]
    },
    {
      "cell_type": "code",
      "execution_count": 95,
      "metadata": {
        "colab": {
          "base_uri": "https://localhost:8080/"
        },
        "id": "RoSXkygZeeuu",
        "outputId": "59e27ca1-cd73-4874-d0fe-241ad88b5cc8"
      },
      "outputs": [
        {
          "output_type": "execute_result",
          "data": {
            "text/plain": [
              "<tf.Tensor: shape=(1, 1), dtype=float32, numpy=array([[0.9901472]], dtype=float32)>"
            ]
          },
          "metadata": {},
          "execution_count": 95
        }
      ],
      "source": [
        "model(np.array([np.array(Image.open(\"images (2).jpeg\").resize((128,128)))]))"
      ]
    },
    {
      "cell_type": "code",
      "execution_count": null,
      "metadata": {
        "colab": {
          "base_uri": "https://localhost:8080/"
        },
        "id": "yNshyDd1e0U3",
        "outputId": "76368a5a-831c-45d6-b756-20d2ca24a5ab"
      },
      "outputs": [
        {
          "data": {
            "text/plain": [
              "0"
            ]
          },
          "execution_count": 84,
          "metadata": {},
          "output_type": "execute_result"
        }
      ],
      "source": [
        "Y[5]"
      ]
    },
    {
      "cell_type": "code",
      "execution_count": null,
      "metadata": {
        "id": "IUp6y7f7oZmA"
      },
      "outputs": [],
      "source": [
        "# Testing Area"
      ]
    },
    {
      "cell_type": "code",
      "execution_count": null,
      "metadata": {
        "id": "pHk30itkoYFd"
      },
      "outputs": [],
      "source": [
        "import base64"
      ]
    },
    {
      "cell_type": "code",
      "execution_count": null,
      "metadata": {
        "id": "q0hzHDQiobFA"
      },
      "outputs": [],
      "source": [
        "code = input(\"Please Paste The Base64 Code Here: \\n\")\n",
        "image = base64.decode(code)\n",
        "ans = model.predict(image)\n",
        "print(\"This Pizza Is %s % likely t be evil!!!\" % ans * 100)"
      ]
    }
  ],
  "metadata": {
    "accelerator": "GPU",
    "colab": {
      "collapsed_sections": [],
      "name": "Untitled19.ipynb",
      "provenance": [],
      "authorship_tag": "ABX9TyNxOt2IQLx3Y6tS6dYfKpzY",
      "include_colab_link": true
    },
    "kernelspec": {
      "display_name": "Python 3",
      "name": "python3"
    },
    "language_info": {
      "name": "python"
    }
  },
  "nbformat": 4,
  "nbformat_minor": 0
}