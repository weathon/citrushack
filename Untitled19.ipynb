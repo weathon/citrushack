{
  "nbformat": 4,
  "nbformat_minor": 0,
  "metadata": {
    "colab": {
      "name": "Untitled19.ipynb",
      "provenance": [],
      "collapsed_sections": [],
      "authorship_tag": "ABX9TyOyfCev8cd+yhYjDvF7Z1QD",
      "include_colab_link": true
    },
    "kernelspec": {
      "name": "python3",
      "display_name": "Python 3"
    },
    "language_info": {
      "name": "python"
    },
    "accelerator": "GPU"
  },
  "cells": [
    {
      "cell_type": "markdown",
      "metadata": {
        "id": "view-in-github",
        "colab_type": "text"
      },
      "source": [
        "<a href=\"https://colab.research.google.com/github/weathon/citrushack/blob/main/Untitled19.ipynb\" target=\"_parent\"><img src=\"https://colab.research.google.com/assets/colab-badge.svg\" alt=\"Open In Colab\"/></a>"
      ]
    },
    {
      "cell_type": "code",
      "execution_count": null,
      "metadata": {
        "id": "SmSsQZYZRfN_"
      },
      "outputs": [],
      "source": [
        "import tensorflow as tf\n",
        "\n",
        "import os\n",
        "import tensorflow_datasets as tfds\n",
        "import numpy as np\n",
        "from PIL import Image\n",
        "\n",
        "import matplotlib.pyplot as plt\n",
        "import matplotlib.patches as patches"
      ]
    },
    {
      "cell_type": "code",
      "source": [
        "# We used the dataset from https://github.com/toppev/is-pineapple-pizza but code our own project"
      ],
      "metadata": {
        "id": "21ZxfwbpTgNc"
      },
      "execution_count": null,
      "outputs": []
    },
    {
      "cell_type": "code",
      "source": [
        "image_w , image_h = 128,128\n",
        "\n",
        "model = tf.keras.models.Sequential([\n",
        "  # RBG, because pineapple is yellow\n",
        "  tf.keras.layers.Conv2D(6, (2,2), activation='relu', input_shape=(image_h,image_w,3)),\n",
        "  tf.keras.layers.MaxPooling2D(2,2),\n",
        "  tf.keras.layers.Conv2D(8, (2,2), activation='relu'),\n",
        "  tf.keras.layers.MaxPooling2D(2,2), \n",
        "  tf.keras.layers.Conv2D(16, (2,2), activation='relu'), \n",
        "  tf.keras.layers.MaxPooling2D(2,2),  \n",
        "  tf.keras.layers.Conv2D(16, (2,2), activation='relu'), \n",
        "  tf.keras.layers.MaxPooling2D(2,2),\n",
        "  tf.keras.layers.Flatten(),\n",
        "  tf.keras.layers.Dense(512),\n",
        "  tf.keras.layers.Dense(258),\n",
        "  tf.keras.layers.Dense(128),\n",
        "  tf.keras.layers.Dropout(0.8), \n",
        "  tf.keras.layers.Dense(64),\n",
        "  tf.keras.layers.Dense(10),\n",
        "  tf.keras.layers.Dense(1,activation=\"sigmoid\"),\n",
        "])\n",
        "model.summary()\n",
        "# print(model.output_shape)\n",
        "model.compile(optimizer=tf.keras.optimizers.Adam(),\n",
        "          loss='binary_crossentropy',metrics=[\"accuracy\"])\n"
      ],
      "metadata": {
        "id": "fYfIY_CfRmF9"
      },
      "execution_count": null,
      "outputs": []
    },
    {
      "cell_type": "code",
      "source": [
        "!wget http://pizzagan.csail.mit.edu/pizzaGANdata.zip\n",
        "\n",
        "!unzip pizzaGANdata.zip"
      ],
      "metadata": {
        "id": "ZXmTFnkVToe2"
      },
      "execution_count": null,
      "outputs": []
    },
    {
      "cell_type": "code",
      "source": [
        "! mkdir not_pineapple\n",
        "! mkdir pineapple\n",
        "\n",
        "#  https://github.com/toppev/is-pineapple-pizza/blob/main/dataset/categorize.py\n",
        "import os\n",
        "from shutil import copyfile\n",
        "\n",
        "images = sorted(os.listdir(\"pizzaGANdata/images\"))\n",
        "\n",
        "max_images = 5000\n",
        "test_images = 50\n",
        "\n",
        "pineapples = 0\n",
        "not_pineapples = 0\n",
        "\n",
        "with open(\"pizzaGANdata/imageLabels.txt\") as f:\n",
        "    index = 0\n",
        "    for line in f:\n",
        "        index += 1\n",
        "\n",
        "        is_pineapple = line.endswith('1\\n')\n",
        "        target = 'not_pineapple/' + str(not_pineapples) + '.jpg'\n",
        "\n",
        "        if is_pineapple:\n",
        "            target = 'pineapple/' + str(pineapples) + '.jpg'\n",
        "            if pineapples >= max_images:\n",
        "                continue\n",
        "            pineapples += 1\n",
        "        else:\n",
        "            if not_pineapples >= max_images:\n",
        "                continue\n",
        "            not_pineapples += 1\n",
        "        if len(images) > index:\n",
        "            copyfile('pizzaGANdata/images/' + images[index - 1], target)\n",
        "\n",
        "print('Pineapples: ' + str(pineapples))\n",
        "print('Not pineapples: ' + str(not_pineapples))"
      ],
      "metadata": {
        "colab": {
          "base_uri": "https://localhost:8080/"
        },
        "id": "TY4NmOb6XgAa",
        "outputId": "c6861f47-d563-41b5-f39f-096bcf3d8d0f"
      },
      "execution_count": null,
      "outputs": [
        {
          "output_type": "stream",
          "name": "stdout",
          "text": [
            "Pineapples: 83\n",
            "Not pineapples: 5000\n"
          ]
        }
      ]
    },
    {
      "cell_type": "code",
      "source": [
        "!cat pizzaGANdata/imageLabels.txt"
      ],
      "metadata": {
        "id": "WbCbseYyWnIj"
      },
      "execution_count": null,
      "outputs": []
    },
    {
      "cell_type": "code",
      "source": [
        "X = []\n",
        "Y = []"
      ],
      "metadata": {
        "id": "UTMeBCamWH6i"
      },
      "execution_count": 73,
      "outputs": []
    },
    {
      "cell_type": "code",
      "source": [
        "X"
      ],
      "metadata": {
        "id": "FEnbXNWVddp2"
      },
      "execution_count": null,
      "outputs": []
    },
    {
      "cell_type": "code",
      "source": [
        "import random\n",
        "not_pineapples_list = random.sample(os.listdir(\"not_pineapple\"),pineapples*5)\n",
        "pineapples_list = os.listdir(\"pineapple\")"
      ],
      "metadata": {
        "id": "LHRNwwvlWXaB"
      },
      "execution_count": 69,
      "outputs": []
    },
    {
      "cell_type": "code",
      "source": [
        "for i in not_pineapples_list:\n",
        "  X.append(np.array(Image.open(\"not_pineapple/\"+i).resize((128,128)).convert(\"RGB\")))\n",
        "  Y.append(0)"
      ],
      "metadata": {
        "id": "Hg7VwngCYKWu"
      },
      "execution_count": 74,
      "outputs": []
    },
    {
      "cell_type": "code",
      "source": [
        "for i in pineapples_list:\n",
        "  X.append(np.array(Image.open(\"pineapple/\"+i).resize((128,128)).convert(\"RGB\")))\n",
        "  Y.append(1)"
      ],
      "metadata": {
        "id": "UHYvP3EZa2zV"
      },
      "execution_count": 75,
      "outputs": []
    },
    {
      "cell_type": "code",
      "source": [
        "X = np.array(X)\n",
        "Y = np.array(Y)"
      ],
      "metadata": {
        "id": "2E57I6Jrc7mY"
      },
      "execution_count": 76,
      "outputs": []
    },
    {
      "cell_type": "code",
      "source": [
        "model.fit(X, Y, epochs=50, shuffle=True)"
      ],
      "metadata": {
        "id": "qxQHcBCpbJol"
      },
      "execution_count": null,
      "outputs": []
    },
    {
      "cell_type": "code",
      "source": [
        "model(np.array([np.array(Image.open(\"images (2).jpeg\").resize((128,128)))]))"
      ],
      "metadata": {
        "colab": {
          "base_uri": "https://localhost:8080/"
        },
        "id": "RoSXkygZeeuu",
        "outputId": "914d8aca-7ffa-47de-fabe-4b887df35fb7"
      },
      "execution_count": 83,
      "outputs": [
        {
          "output_type": "execute_result",
          "data": {
            "text/plain": [
              "<tf.Tensor: shape=(1, 1), dtype=float32, numpy=array([[0.65052766]], dtype=float32)>"
            ]
          },
          "metadata": {},
          "execution_count": 83
        }
      ]
    },
    {
      "cell_type": "code",
      "source": [
        "Y[5]"
      ],
      "metadata": {
        "colab": {
          "base_uri": "https://localhost:8080/"
        },
        "id": "yNshyDd1e0U3",
        "outputId": "76368a5a-831c-45d6-b756-20d2ca24a5ab"
      },
      "execution_count": 84,
      "outputs": [
        {
          "output_type": "execute_result",
          "data": {
            "text/plain": [
              "0"
            ]
          },
          "metadata": {},
          "execution_count": 84
        }
      ]
    }
  ]
}